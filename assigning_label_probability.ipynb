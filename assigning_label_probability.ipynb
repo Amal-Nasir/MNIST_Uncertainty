{
 "cells": [
  {
   "cell_type": "code",
   "execution_count": 2,
   "metadata": {},
   "outputs": [],
   "source": [
    "import pandas as pd\n",
    "import numpy as np\n",
    "import csv"
   ]
  },
  {
   "cell_type": "code",
   "execution_count": 2,
   "metadata": {},
   "outputs": [],
   "source": [
    "# Define probabilities for each number from 0 to 9\n",
    "probabilities_lists = {\n",
    "0: [0, 0.03, 0.08, 0.08, 0.05, 0.08, 0.16, 0.06, 0.38, 0.08],\n",
    "1: [0.09, 0, 0.03, 0.12, 0.17, 0.03, 0.03, 0.34, 0.07, 0.12],\n",
    "2: [0.14, 0.02, 0, 0.2, 0.04, 0.08, 0.14, 0.05, 0.25, 0.08],\n",
    "3: [0.09, 0.05, 0.14, 0, 0.07, 0.14, 0.09, 0.1, 0.18, 0.14],\n",
    "4: [0.07, 0.09, 0.04, 0.09, 0, 0.09, 0.07, 0.06, 0.12, 0.37],\n",
    "5: [0.09, 0.01, 0.05, 0.13, 0.07, 0, 0.33, 0.03, 0.16, 0.13],\n",
    "6: [0.132908028,0.009037746,0.070707071,0.070707071,0.039872408,\n",
    "    0.265816055,0,0.021265284,0.318979266,0.070707071],\n",
    "7: [0.11, 0.21, 0.06, 0.17, 0.08, 0.06, 0.05, 0, 0.09, 0.17],\n",
    "8: [0.25, 0.02, 0.1, 0.1, 0.05, 0.1, 0.25, 0.03, 0, 0.1],\n",
    "9: [0.08, 0.04, 0.05, 0.12, 0.26, 0.12, 0.08, 0.09, 0.16, 0]\n",
    "}"
   ]
  },
  {
   "cell_type": "code",
   "execution_count": 3,
   "metadata": {},
   "outputs": [
    {
     "name": "stdout",
     "output_type": "stream",
     "text": [
      "1.0\n",
      "1.0\n",
      "1.0\n",
      "1.0\n",
      "1.0\n",
      "1.0\n",
      "1.0\n",
      "1.0\n",
      "1.0\n",
      "1.0\n"
     ]
    }
   ],
   "source": [
    "probabilities_0 = [0, 0.03, 0.08, 0.08, 0.05, 0.08, 0.16, 0.06, 0.38, 0.08]\n",
    "probabilities_1 = [0.09, 0, 0.03, 0.12, 0.17, 0.03, 0.03, 0.34, 0.07, 0.12]\n",
    "probabilities_2 = [0.14, 0.02, 0, 0.2, 0.04, 0.08, 0.14, 0.05, 0.25, 0.08]\n",
    "probabilities_3 = [0.09, 0.05, 0.14, 0, 0.07, 0.14, 0.09, 0.1, 0.18, 0.14]\n",
    "probabilities_4 = [0.07, 0.09, 0.04, 0.09, 0, 0.09, 0.07, 0.06, 0.12, 0.37]\n",
    "probabilities_5 = [0.09, 0.01, 0.05, 0.13, 0.07, 0, 0.33, 0.03, 0.16, 0.13]\n",
    "probabilities_6 = [0.132908028,0.009037746,0.070707071,0.070707071,0.039872408,\n",
    "                   0.265816055,0,0.021265284,0.318979266,0.070707071]\n",
    "probabilities_7 = [0.11, 0.21, 0.06, 0.17, 0.08, 0.06, 0.05, 0, 0.09, 0.17]\n",
    "probabilities_8 = [0.25, 0.02, 0.1, 0.1, 0.05, 0.1, 0.25, 0.03, 0, 0.1]\n",
    "probabilities_9 = [0.08, 0.04, 0.05, 0.12, 0.26, 0.12, 0.08, 0.09, 0.16, 0]\n",
    "# Sum the values in the list\n",
    "print(sum(probabilities_0)) \n",
    "print(sum(probabilities_1)) \n",
    "print(sum(probabilities_2)) \n",
    "print(sum(probabilities_3)) \n",
    "print(sum(probabilities_4)) \n",
    "print(sum(probabilities_5)) \n",
    "print(sum(probabilities_6)) \n",
    "print(sum(probabilities_7)) \n",
    "print(sum(probabilities_8)) \n",
    "print(sum(probabilities_9))\n"
   ]
  },
  {
   "cell_type": "code",
   "execution_count": 4,
   "metadata": {},
   "outputs": [
    {
     "data": {
      "text/html": [
       "<div>\n",
       "<style scoped>\n",
       "    .dataframe tbody tr th:only-of-type {\n",
       "        vertical-align: middle;\n",
       "    }\n",
       "\n",
       "    .dataframe tbody tr th {\n",
       "        vertical-align: top;\n",
       "    }\n",
       "\n",
       "    .dataframe thead th {\n",
       "        text-align: right;\n",
       "    }\n",
       "</style>\n",
       "<table border=\"1\" class=\"dataframe\">\n",
       "  <thead>\n",
       "    <tr style=\"text-align: right;\">\n",
       "      <th></th>\n",
       "      <th>Random_1</th>\n",
       "      <th>Random_2</th>\n",
       "      <th>Random_3</th>\n",
       "      <th>Random_4</th>\n",
       "      <th>Random_5</th>\n",
       "      <th>Random_6</th>\n",
       "      <th>Random_7</th>\n",
       "      <th>Random_8</th>\n",
       "      <th>Random_9</th>\n",
       "      <th>Label_3</th>\n",
       "      <th>Label_2</th>\n",
       "      <th>Label_1</th>\n",
       "      <th>Label</th>\n",
       "      <th>Flattened_Image</th>\n",
       "      <th>id</th>\n",
       "      <th>agreement</th>\n",
       "    </tr>\n",
       "  </thead>\n",
       "  <tbody>\n",
       "    <tr>\n",
       "      <th>0</th>\n",
       "      <td>0</td>\n",
       "      <td>1</td>\n",
       "      <td>8</td>\n",
       "      <td>4</td>\n",
       "      <td>7</td>\n",
       "      <td>3</td>\n",
       "      <td>9</td>\n",
       "      <td>6</td>\n",
       "      <td>2</td>\n",
       "      <td>5</td>\n",
       "      <td>5</td>\n",
       "      <td>5</td>\n",
       "      <td>5</td>\n",
       "      <td>[0, 0, 0, 0, 0, 0, 0, 0, 0, 0, 0, 0, 0, 0, 0, ...</td>\n",
       "      <td>45001</td>\n",
       "      <td>0</td>\n",
       "    </tr>\n",
       "    <tr>\n",
       "      <th>1</th>\n",
       "      <td>7</td>\n",
       "      <td>2</td>\n",
       "      <td>3</td>\n",
       "      <td>8</td>\n",
       "      <td>4</td>\n",
       "      <td>0</td>\n",
       "      <td>6</td>\n",
       "      <td>9</td>\n",
       "      <td>5</td>\n",
       "      <td>1</td>\n",
       "      <td>1</td>\n",
       "      <td>1</td>\n",
       "      <td>1</td>\n",
       "      <td>[0, 0, 0, 0, 0, 0, 0, 0, 0, 0, 0, 0, 0, 0, 0, ...</td>\n",
       "      <td>45002</td>\n",
       "      <td>0</td>\n",
       "    </tr>\n",
       "    <tr>\n",
       "      <th>2</th>\n",
       "      <td>5</td>\n",
       "      <td>0</td>\n",
       "      <td>2</td>\n",
       "      <td>3</td>\n",
       "      <td>4</td>\n",
       "      <td>8</td>\n",
       "      <td>7</td>\n",
       "      <td>9</td>\n",
       "      <td>6</td>\n",
       "      <td>1</td>\n",
       "      <td>1</td>\n",
       "      <td>1</td>\n",
       "      <td>1</td>\n",
       "      <td>[0, 0, 0, 0, 0, 0, 0, 0, 0, 0, 0, 0, 0, 0, 0, ...</td>\n",
       "      <td>45003</td>\n",
       "      <td>0</td>\n",
       "    </tr>\n",
       "    <tr>\n",
       "      <th>3</th>\n",
       "      <td>0</td>\n",
       "      <td>1</td>\n",
       "      <td>5</td>\n",
       "      <td>4</td>\n",
       "      <td>8</td>\n",
       "      <td>9</td>\n",
       "      <td>7</td>\n",
       "      <td>2</td>\n",
       "      <td>6</td>\n",
       "      <td>3</td>\n",
       "      <td>3</td>\n",
       "      <td>3</td>\n",
       "      <td>3</td>\n",
       "      <td>[0, 0, 0, 0, 0, 0, 0, 0, 0, 0, 0, 0, 0, 0, 0, ...</td>\n",
       "      <td>45004</td>\n",
       "      <td>0</td>\n",
       "    </tr>\n",
       "    <tr>\n",
       "      <th>4</th>\n",
       "      <td>3</td>\n",
       "      <td>4</td>\n",
       "      <td>1</td>\n",
       "      <td>8</td>\n",
       "      <td>0</td>\n",
       "      <td>9</td>\n",
       "      <td>2</td>\n",
       "      <td>5</td>\n",
       "      <td>7</td>\n",
       "      <td>6</td>\n",
       "      <td>6</td>\n",
       "      <td>6</td>\n",
       "      <td>6</td>\n",
       "      <td>[0, 0, 0, 0, 0, 0, 0, 0, 0, 0, 0, 0, 0, 0, 0, ...</td>\n",
       "      <td>45005</td>\n",
       "      <td>0</td>\n",
       "    </tr>\n",
       "  </tbody>\n",
       "</table>\n",
       "</div>"
      ],
      "text/plain": [
       "   Random_1  Random_2  Random_3  Random_4  Random_5  Random_6  Random_7  \\\n",
       "0         0         1         8         4         7         3         9   \n",
       "1         7         2         3         8         4         0         6   \n",
       "2         5         0         2         3         4         8         7   \n",
       "3         0         1         5         4         8         9         7   \n",
       "4         3         4         1         8         0         9         2   \n",
       "\n",
       "   Random_8  Random_9  Label_3  Label_2  Label_1  Label  \\\n",
       "0         6         2        5        5        5      5   \n",
       "1         9         5        1        1        1      1   \n",
       "2         9         6        1        1        1      1   \n",
       "3         2         6        3        3        3      3   \n",
       "4         5         7        6        6        6      6   \n",
       "\n",
       "                                     Flattened_Image     id  agreement  \n",
       "0  [0, 0, 0, 0, 0, 0, 0, 0, 0, 0, 0, 0, 0, 0, 0, ...  45001          0  \n",
       "1  [0, 0, 0, 0, 0, 0, 0, 0, 0, 0, 0, 0, 0, 0, 0, ...  45002          0  \n",
       "2  [0, 0, 0, 0, 0, 0, 0, 0, 0, 0, 0, 0, 0, 0, 0, ...  45003          0  \n",
       "3  [0, 0, 0, 0, 0, 0, 0, 0, 0, 0, 0, 0, 0, 0, 0, ...  45004          0  \n",
       "4  [0, 0, 0, 0, 0, 0, 0, 0, 0, 0, 0, 0, 0, 0, 0, ...  45005          0  "
      ]
     },
     "execution_count": 4,
     "metadata": {},
     "output_type": "execute_result"
    }
   ],
   "source": [
    "no_data = pd.read_csv('/home/aalmansour/source/lidc_slices/MNIST/four_raters_random_labels/no_agreement_4raters_mnist1.csv')\n",
    "no_data.head(5)"
   ]
  },
  {
   "cell_type": "code",
   "execution_count": 5,
   "metadata": {},
   "outputs": [
    {
     "data": {
      "text/plain": [
       "Label\n",
       "1    1733\n",
       "3    1525\n",
       "7    1514\n",
       "9    1500\n",
       "2    1486\n",
       "6    1485\n",
       "0    1465\n",
       "4    1458\n",
       "8    1443\n",
       "5    1391\n",
       "Name: count, dtype: int64"
      ]
     },
     "execution_count": 5,
     "metadata": {},
     "output_type": "execute_result"
    }
   ],
   "source": [
    "no_data['Label'].value_counts()"
   ]
  },
  {
   "cell_type": "code",
   "execution_count": 7,
   "metadata": {},
   "outputs": [],
   "source": [
    "# Initialize an empty list to store generated labels\n",
    "generated_labels1 = []\n",
    "generated_labels2 = []\n",
    "generated_labels3 = []\n",
    "\n",
    "# Generate random labels based on probabilities for each number in the original column\n",
    "for original_label in no_data['Label']:\n",
    "\n",
    "    probabilities = probabilities_lists[original_label]\n",
    "    generated_label1 = np.random.choice(range(10), p=probabilities)\n",
    "    generated_label2 = np.random.choice(range(10), p=probabilities)\n",
    "    generated_label3 = np.random.choice(range(10), p=probabilities)\n",
    "\n",
    "    # To ensure labels within each row are unique\n",
    "    while generated_label1 == generated_label2 or generated_label1 == generated_label3 or generated_label2 == generated_label3:\n",
    "        generated_label1 = np.random.choice(range(10), p=probabilities)\n",
    "        generated_label2 = np.random.choice(range(10), p=probabilities)\n",
    "        generated_label3 = np.random.choice(range(10), p=probabilities)\n",
    "    generated_labels1.append(generated_label1)\n",
    "    generated_labels2.append(generated_label2)\n",
    "    generated_labels3.append(generated_label3)\n",
    "\n",
    "\n",
    "# Add the generated labels as a new column to the DataFrame\n",
    "no_data['Generated_Labels1'] = generated_labels1\n",
    "no_data['Generated_Labels2'] = generated_labels2\n",
    "no_data['Generated_Labels3'] = generated_labels3"
   ]
  },
  {
   "cell_type": "code",
   "execution_count": null,
   "metadata": {},
   "outputs": [
    {
     "name": "stdout",
     "output_type": "stream",
     "text": [
      "   Random_1  Random_2  Random_3  Random_4  Random_5  Random_6  Random_7  \\\n",
      "0         0         6         7         4         9         3         8   \n",
      "1         2         3         9         1         8         4         6   \n",
      "2         1         6         3         8         5         0         9   \n",
      "3         0         4         5         9         6         8         2   \n",
      "4         2         1         6         0         5         8         7   \n",
      "\n",
      "   Random_8  Random_9  Label_3  Label_2  Label_1  Label  \\\n",
      "0         2         1        5        5        5      5   \n",
      "1         5         7        0        0        0      0   \n",
      "2         2         7        4        4        4      4   \n",
      "3         7         3        1        1        1      1   \n",
      "4         3         4        9        9        9      9   \n",
      "\n",
      "                                     Flattened_Image     id  agreement  \\\n",
      "0  [0, 0, 0, 0, 0, 0, 0, 0, 0, 0, 0, 0, 0, 0, 0, ...  30001          1   \n",
      "1  [0, 0, 0, 0, 0, 0, 0, 0, 0, 0, 0, 0, 0, 0, 0, ...  30002          1   \n",
      "2  [0, 0, 0, 0, 0, 0, 0, 0, 0, 0, 0, 0, 0, 0, 0, ...  30003          1   \n",
      "3  [0, 0, 0, 0, 0, 0, 0, 0, 0, 0, 0, 0, 0, 0, 0, ...  30004          1   \n",
      "4  [0, 0, 0, 0, 0, 0, 0, 0, 0, 0, 0, 0, 0, 0, 0, ...  30005          1   \n",
      "\n",
      "   Generated_Labels1  Generated_Labels2  \n",
      "0                  7                  0  \n",
      "1                  9                  6  \n",
      "2                  6                  9  \n",
      "3                  8                  0  \n",
      "4                  4                  3  \n"
     ]
    }
   ],
   "source": [
    "# Display the DataFrame with the new column\n",
    "print(no_data.head(5))"
   ]
  },
  {
   "cell_type": "code",
   "execution_count": null,
   "metadata": {},
   "outputs": [
    {
     "data": {
      "text/plain": [
       "Generated_Labels1\n",
       "8    2542\n",
       "9    1862\n",
       "6    1680\n",
       "3    1606\n",
       "0    1606\n",
       "5    1449\n",
       "4    1306\n",
       "7    1198\n",
       "2     983\n",
       "1     768\n",
       "Name: count, dtype: int64"
      ]
     },
     "execution_count": 8,
     "metadata": {},
     "output_type": "execute_result"
    }
   ],
   "source": [
    "no_data['Generated_Labels1'].value_counts()"
   ]
  },
  {
   "cell_type": "code",
   "execution_count": null,
   "metadata": {},
   "outputs": [
    {
     "data": {
      "text/plain": [
       "Generated_Labels2\n",
       "8    2529\n",
       "9    1945\n",
       "6    1725\n",
       "3    1638\n",
       "0    1548\n",
       "5    1469\n",
       "4    1258\n",
       "7    1216\n",
       "2     945\n",
       "1     727\n",
       "Name: count, dtype: int64"
      ]
     },
     "execution_count": 9,
     "metadata": {},
     "output_type": "execute_result"
    }
   ],
   "source": [
    "no_data['Generated_Labels2'].value_counts()"
   ]
  },
  {
   "cell_type": "code",
   "execution_count": null,
   "metadata": {},
   "outputs": [
    {
     "data": {
      "text/plain": [
       "Generated_Labels1\n",
       "7    566\n",
       "4    312\n",
       "3    199\n",
       "9    188\n",
       "0    141\n",
       "8    133\n",
       "2     56\n",
       "6     49\n",
       "5     46\n",
       "Name: count, dtype: int64"
      ]
     },
     "execution_count": 10,
     "metadata": {},
     "output_type": "execute_result"
    }
   ],
   "source": [
    "# Filter DataFrame based on a value in the 'Age' column\n",
    "filtered_df = no_data[no_data['Label'] == 1]\n",
    "filtered_df['Generated_Labels1'].value_counts()"
   ]
  },
  {
   "cell_type": "code",
   "execution_count": null,
   "metadata": {},
   "outputs": [
    {
     "data": {
      "text/plain": [
       "Generated_Labels2\n",
       "6    353\n",
       "0    339\n",
       "3    161\n",
       "9    150\n",
       "5    143\n",
       "2    138\n",
       "4     70\n",
       "1     39\n",
       "7     39\n",
       "Name: count, dtype: int64"
      ]
     },
     "execution_count": 11,
     "metadata": {},
     "output_type": "execute_result"
    }
   ],
   "source": [
    "# Filter DataFrame based on a value in the 'Age' column\n",
    "filtered_df = no_data[no_data['Label'] == 8]\n",
    "filtered_df['Generated_Labels2'].value_counts()"
   ]
  },
  {
   "cell_type": "code",
   "execution_count": 8,
   "metadata": {},
   "outputs": [
    {
     "data": {
      "text/plain": [
       "Generated_Labels3\n",
       "6    314\n",
       "0    263\n",
       "5    186\n",
       "2    169\n",
       "3    164\n",
       "9    159\n",
       "4     97\n",
       "7     57\n",
       "1     34\n",
       "Name: count, dtype: int64"
      ]
     },
     "execution_count": 8,
     "metadata": {},
     "output_type": "execute_result"
    }
   ],
   "source": [
    "# Filter DataFrame based on a value in the 'Age' column\n",
    "filtered_df = no_data[no_data['Label'] == 8]\n",
    "filtered_df['Generated_Labels3'].value_counts()"
   ]
  },
  {
   "cell_type": "code",
   "execution_count": null,
   "metadata": {},
   "outputs": [
    {
     "data": {
      "text/plain": [
       "1432"
      ]
     },
     "execution_count": 12,
     "metadata": {},
     "output_type": "execute_result"
    }
   ],
   "source": [
    "len(filtered_df)"
   ]
  },
  {
   "cell_type": "code",
   "execution_count": 9,
   "metadata": {},
   "outputs": [],
   "source": [
    "no_data.to_csv('no_mnist_file.csv', index=False)"
   ]
  },
  {
   "cell_type": "code",
   "execution_count": 11,
   "metadata": {},
   "outputs": [
    {
     "data": {
      "text/html": [
       "<div>\n",
       "<style scoped>\n",
       "    .dataframe tbody tr th:only-of-type {\n",
       "        vertical-align: middle;\n",
       "    }\n",
       "\n",
       "    .dataframe tbody tr th {\n",
       "        vertical-align: top;\n",
       "    }\n",
       "\n",
       "    .dataframe thead th {\n",
       "        text-align: right;\n",
       "    }\n",
       "</style>\n",
       "<table border=\"1\" class=\"dataframe\">\n",
       "  <thead>\n",
       "    <tr style=\"text-align: right;\">\n",
       "      <th></th>\n",
       "      <th>image_id</th>\n",
       "      <th>instance_id</th>\n",
       "      <th>Label</th>\n",
       "      <th>flattened_image</th>\n",
       "      <th>agreement</th>\n",
       "    </tr>\n",
       "  </thead>\n",
       "  <tbody>\n",
       "  </tbody>\n",
       "</table>\n",
       "</div>"
      ],
      "text/plain": [
       "Empty DataFrame\n",
       "Columns: [image_id, instance_id, Label, flattened_image, agreement]\n",
       "Index: []"
      ]
     },
     "execution_count": 11,
     "metadata": {},
     "output_type": "execute_result"
    }
   ],
   "source": [
    "no_data = pd.read_csv('/home/aalmansour/source/lidc_slices/MNIST/four_raters_similar_labels/high_train_data.csv')\n",
    "no_data[no_data[\"image_id\"]==30069]"
   ]
  },
  {
   "cell_type": "code",
   "execution_count": 12,
   "metadata": {},
   "outputs": [
    {
     "data": {
      "text/plain": [
       "42000"
      ]
     },
     "execution_count": 12,
     "metadata": {},
     "output_type": "execute_result"
    }
   ],
   "source": [
    "len(no_data)"
   ]
  },
  {
   "cell_type": "code",
   "execution_count": 13,
   "metadata": {},
   "outputs": [],
   "source": [
    "repeated_labels = no_data.groupby(['image_id', 'Label']).filter(lambda x: len(x) > 1)"
   ]
  },
  {
   "cell_type": "code",
   "execution_count": 14,
   "metadata": {},
   "outputs": [
    {
     "data": {
      "text/html": [
       "<div>\n",
       "<style scoped>\n",
       "    .dataframe tbody tr th:only-of-type {\n",
       "        vertical-align: middle;\n",
       "    }\n",
       "\n",
       "    .dataframe tbody tr th {\n",
       "        vertical-align: top;\n",
       "    }\n",
       "\n",
       "    .dataframe thead th {\n",
       "        text-align: right;\n",
       "    }\n",
       "</style>\n",
       "<table border=\"1\" class=\"dataframe\">\n",
       "  <thead>\n",
       "    <tr style=\"text-align: right;\">\n",
       "      <th></th>\n",
       "      <th>image_id</th>\n",
       "      <th>instance_id</th>\n",
       "      <th>Label</th>\n",
       "      <th>flattened_image</th>\n",
       "      <th>agreement</th>\n",
       "    </tr>\n",
       "  </thead>\n",
       "  <tbody>\n",
       "    <tr>\n",
       "      <th>0</th>\n",
       "      <td>15001</td>\n",
       "      <td>60001</td>\n",
       "      <td>3</td>\n",
       "      <td>[0, 0, 0, 0, 0, 0, 0, 0, 0, 0, 0, 0, 0, 0, 0, ...</td>\n",
       "      <td>2</td>\n",
       "    </tr>\n",
       "    <tr>\n",
       "      <th>1</th>\n",
       "      <td>15002</td>\n",
       "      <td>60002</td>\n",
       "      <td>1</td>\n",
       "      <td>[0, 0, 0, 0, 0, 0, 0, 0, 0, 0, 0, 0, 0, 0, 0, ...</td>\n",
       "      <td>2</td>\n",
       "    </tr>\n",
       "    <tr>\n",
       "      <th>2</th>\n",
       "      <td>15004</td>\n",
       "      <td>60004</td>\n",
       "      <td>5</td>\n",
       "      <td>[0, 0, 0, 0, 0, 0, 0, 0, 0, 0, 0, 0, 0, 0, 0, ...</td>\n",
       "      <td>2</td>\n",
       "    </tr>\n",
       "    <tr>\n",
       "      <th>3</th>\n",
       "      <td>15005</td>\n",
       "      <td>60005</td>\n",
       "      <td>7</td>\n",
       "      <td>[0, 0, 0, 0, 0, 0, 0, 0, 0, 0, 0, 0, 0, 0, 0, ...</td>\n",
       "      <td>2</td>\n",
       "    </tr>\n",
       "    <tr>\n",
       "      <th>4</th>\n",
       "      <td>15006</td>\n",
       "      <td>60006</td>\n",
       "      <td>3</td>\n",
       "      <td>[0, 0, 0, 0, 0, 0, 0, 0, 0, 0, 0, 0, 0, 0, 0, ...</td>\n",
       "      <td>2</td>\n",
       "    </tr>\n",
       "    <tr>\n",
       "      <th>...</th>\n",
       "      <td>...</td>\n",
       "      <td>...</td>\n",
       "      <td>...</td>\n",
       "      <td>...</td>\n",
       "      <td>...</td>\n",
       "    </tr>\n",
       "    <tr>\n",
       "      <th>31495</th>\n",
       "      <td>29994</td>\n",
       "      <td>104994</td>\n",
       "      <td>5</td>\n",
       "      <td>[0, 0, 0, 0, 0, 0, 0, 0, 0, 0, 0, 0, 0, 0, 0, ...</td>\n",
       "      <td>2</td>\n",
       "    </tr>\n",
       "    <tr>\n",
       "      <th>31496</th>\n",
       "      <td>29996</td>\n",
       "      <td>104996</td>\n",
       "      <td>8</td>\n",
       "      <td>[0, 0, 0, 0, 0, 0, 0, 0, 0, 0, 0, 0, 0, 0, 0, ...</td>\n",
       "      <td>2</td>\n",
       "    </tr>\n",
       "    <tr>\n",
       "      <th>31497</th>\n",
       "      <td>29997</td>\n",
       "      <td>104997</td>\n",
       "      <td>3</td>\n",
       "      <td>[0, 0, 0, 0, 0, 0, 0, 0, 0, 0, 0, 0, 0, 0, 0, ...</td>\n",
       "      <td>2</td>\n",
       "    </tr>\n",
       "    <tr>\n",
       "      <th>31498</th>\n",
       "      <td>29998</td>\n",
       "      <td>104998</td>\n",
       "      <td>5</td>\n",
       "      <td>[0, 0, 0, 0, 0, 0, 0, 0, 0, 0, 0, 0, 0, 0, 0, ...</td>\n",
       "      <td>2</td>\n",
       "    </tr>\n",
       "    <tr>\n",
       "      <th>31499</th>\n",
       "      <td>29999</td>\n",
       "      <td>104999</td>\n",
       "      <td>6</td>\n",
       "      <td>[0, 0, 0, 0, 0, 0, 0, 0, 0, 0, 0, 0, 0, 0, 0, ...</td>\n",
       "      <td>2</td>\n",
       "    </tr>\n",
       "  </tbody>\n",
       "</table>\n",
       "<p>31500 rows × 5 columns</p>\n",
       "</div>"
      ],
      "text/plain": [
       "       image_id  instance_id  Label  \\\n",
       "0         15001        60001      3   \n",
       "1         15002        60002      1   \n",
       "2         15004        60004      5   \n",
       "3         15005        60005      7   \n",
       "4         15006        60006      3   \n",
       "...         ...          ...    ...   \n",
       "31495     29994       104994      5   \n",
       "31496     29996       104996      8   \n",
       "31497     29997       104997      3   \n",
       "31498     29998       104998      5   \n",
       "31499     29999       104999      6   \n",
       "\n",
       "                                         flattened_image  agreement  \n",
       "0      [0, 0, 0, 0, 0, 0, 0, 0, 0, 0, 0, 0, 0, 0, 0, ...          2  \n",
       "1      [0, 0, 0, 0, 0, 0, 0, 0, 0, 0, 0, 0, 0, 0, 0, ...          2  \n",
       "2      [0, 0, 0, 0, 0, 0, 0, 0, 0, 0, 0, 0, 0, 0, 0, ...          2  \n",
       "3      [0, 0, 0, 0, 0, 0, 0, 0, 0, 0, 0, 0, 0, 0, 0, ...          2  \n",
       "4      [0, 0, 0, 0, 0, 0, 0, 0, 0, 0, 0, 0, 0, 0, 0, ...          2  \n",
       "...                                                  ...        ...  \n",
       "31495  [0, 0, 0, 0, 0, 0, 0, 0, 0, 0, 0, 0, 0, 0, 0, ...          2  \n",
       "31496  [0, 0, 0, 0, 0, 0, 0, 0, 0, 0, 0, 0, 0, 0, 0, ...          2  \n",
       "31497  [0, 0, 0, 0, 0, 0, 0, 0, 0, 0, 0, 0, 0, 0, 0, ...          2  \n",
       "31498  [0, 0, 0, 0, 0, 0, 0, 0, 0, 0, 0, 0, 0, 0, 0, ...          2  \n",
       "31499  [0, 0, 0, 0, 0, 0, 0, 0, 0, 0, 0, 0, 0, 0, 0, ...          2  \n",
       "\n",
       "[31500 rows x 5 columns]"
      ]
     },
     "execution_count": 14,
     "metadata": {},
     "output_type": "execute_result"
    }
   ],
   "source": [
    "repeated_labels"
   ]
  }
 ],
 "metadata": {
  "kernelspec": {
   "display_name": "Python 3",
   "language": "python",
   "name": "python3"
  },
  "language_info": {
   "codemirror_mode": {
    "name": "ipython",
    "version": 3
   },
   "file_extension": ".py",
   "mimetype": "text/x-python",
   "name": "python",
   "nbconvert_exporter": "python",
   "pygments_lexer": "ipython3",
   "version": "3.8.10"
  },
  "orig_nbformat": 4
 },
 "nbformat": 4,
 "nbformat_minor": 2
}
